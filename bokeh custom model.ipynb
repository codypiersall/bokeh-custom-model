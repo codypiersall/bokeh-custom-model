{
 "cells": [
  {
   "cell_type": "markdown",
   "metadata": {
    "deletable": true,
    "editable": true
   },
   "source": [
    "# Plotting PPIs with Bokeh\n",
    "\n",
    "Bokeh does not have a pcolor/pcolormesh/isosurface plot type, so it has nothing\n",
    "that can be used directly to create a plot for PPIs.  However, we can create a model that\n",
    "can be used to create PPI plots.  See [extending bokeh](http://bokeh.pydata.org/en/latest/docs/user_guide/extensions.html)\n",
    "for some more information."
   ]
  },
  {
   "cell_type": "code",
   "execution_count": null,
   "metadata": {
    "code_folding": [],
    "collapsed": false,
    "deletable": true,
    "editable": true
   },
   "outputs": [],
   "source": [
    "# imports\n",
    "from bokeh.models import Glyph, LineProps, ColumnDataSource\n",
    "from bokeh.core.properties import String, Instance, Include, NumberSpec\n",
    "from bokeh.io import output_notebook\n",
    "from bokeh.plotting import show, figure"
   ]
  },
  {
   "cell_type": "code",
   "execution_count": null,
   "metadata": {
    "collapsed": false,
    "deletable": true,
    "editable": true
   },
   "outputs": [],
   "source": [
    "output_notebook()"
   ]
  },
  {
   "cell_type": "code",
   "execution_count": null,
   "metadata": {
    "code_folding": [],
    "collapsed": true,
    "deletable": true,
    "editable": true
   },
   "outputs": [],
   "source": [
    "# this is a copy of the implementation of the Line model\n",
    "class Line2(Glyph):\n",
    "    ''' Render a single line.\n",
    "\n",
    "    The ``Line`` glyph is different from most other glyphs in that the vector\n",
    "    of values only produces one glyph on the Plot.\n",
    "\n",
    "    '''\n",
    "    # a canonical order for positional args that can be used for any\n",
    "    # functions derived from this class\n",
    "    __implementation__  = 'line2.coffee'\n",
    "    _args = ('x', 'y')\n",
    "\n",
    "    x = NumberSpec(help=\"\"\"\n",
    "    The x-coordinates for the points of the line.\n",
    "    \"\"\")\n",
    "\n",
    "    y = NumberSpec(help=\"\"\"\n",
    "    The y-coordinates for the points of the line.\n",
    "    \"\"\")\n",
    "\n",
    "    line_props = Include(LineProps, use_prefix=False, help=\"\"\"\n",
    "    The %s values for the line.\n",
    "    \"\"\")"
   ]
  },
  {
   "cell_type": "code",
   "execution_count": null,
   "metadata": {
    "collapsed": false,
    "deletable": true,
    "editable": true
   },
   "outputs": [],
   "source": [
    "f = figure()\n",
    "source = ColumnDataSource(data={'x': [0, 1, 2, 3], 'y': [4, 2, 6, 3]})\n",
    "f.add_glyph(source, Line2(x='x', y='y'))\n",
    "show(f)"
   ]
  },
  {
   "cell_type": "code",
   "execution_count": null,
   "metadata": {
    "collapsed": false,
    "deletable": true,
    "editable": true
   },
   "outputs": [],
   "source": [
    "output_notebook()"
   ]
  },
  {
   "cell_type": "code",
   "execution_count": null,
   "metadata": {
    "collapsed": false,
    "deletable": true,
    "editable": true
   },
   "outputs": [],
   "source": [
    "f = figure()\n",
    "source = ColumnDataSource(data={'x': [0, 1, 2, 3], 'y': [4, 2, 6, 3]})\n",
    "f.add_glyph(source, Line2(x='x', y='y'))\n",
    "show(f)"
   ]
  },
  {
   "cell_type": "code",
   "execution_count": null,
   "metadata": {
    "collapsed": true,
    "deletable": true,
    "editable": true
   },
   "outputs": [],
   "source": []
  }
 ],
 "metadata": {
  "kernelspec": {
   "display_name": "Python 3",
   "language": "python",
   "name": "python3"
  },
  "language_info": {
   "codemirror_mode": {
    "name": "ipython",
    "version": 3
   },
   "file_extension": ".py",
   "mimetype": "text/x-python",
   "name": "python",
   "nbconvert_exporter": "python",
   "pygments_lexer": "ipython3",
   "version": "3.5.2"
  }
 },
 "nbformat": 4,
 "nbformat_minor": 2
}
